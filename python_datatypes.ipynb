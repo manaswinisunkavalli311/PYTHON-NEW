{
  "cells": [
    {
      "cell_type": "markdown",
      "metadata": {
        "id": "view-in-github",
        "colab_type": "text"
      },
      "source": [
        "<a href=\"https://colab.research.google.com/github/manaswinisunkavalli311/PYTHON-NEW/blob/MODULE-1/python_datatypes.ipynb\" target=\"_parent\"><img src=\"https://colab.research.google.com/assets/colab-badge.svg\" alt=\"Open In Colab\"/></a>"
      ]
    },
    {
      "cell_type": "markdown",
      "id": "38a5d9ac",
      "metadata": {
        "id": "38a5d9ac"
      },
      "source": [
        "# converting int to string,float,boolean,complex\n"
      ]
    },
    {
      "cell_type": "markdown",
      "id": "f2ed7077",
      "metadata": {
        "id": "f2ed7077"
      },
      "source": [
        ""
      ]
    },
    {
      "cell_type": "code",
      "execution_count": null,
      "id": "e2f1d7b9",
      "metadata": {
        "id": "e2f1d7b9",
        "outputId": "3b4ea562-01e8-4855-f523-c3c8c488d76b"
      },
      "outputs": [
        {
          "name": "stdout",
          "output_type": "stream",
          "text": [
            "10\n",
            "<class 'int'>\n",
            "10\n",
            "<class 'str'>\n",
            "10.0\n",
            "<class 'float'>\n",
            "True\n",
            "<class 'bool'>\n",
            "(10+0j)\n",
            "<class 'complex'>\n"
          ]
        }
      ],
      "source": [
        "a=10\n",
        "print(a)\n",
        "print(type(a))\n",
        "#before conversion\n",
        "b=str(a)\n",
        "print(b)\n",
        "print(type(b))\n",
        "#after conversion\n",
        "c=float(a)\n",
        "print(c)\n",
        "print(type(c))\n",
        "d=bool(a)\n",
        "print(d)\n",
        "print(type(d))\n",
        "e=complex(a)\n",
        "print(e)\n",
        "print(type(e))"
      ]
    },
    {
      "cell_type": "markdown",
      "id": "d6fc2f13",
      "metadata": {
        "id": "d6fc2f13"
      },
      "source": [
        "# convert string to  int,float,boolean,complex "
      ]
    },
    {
      "cell_type": "code",
      "execution_count": null,
      "id": "f62a8844",
      "metadata": {
        "id": "f62a8844",
        "outputId": "5a46b845-cf81-42bc-b1d2-e8ca74ba7088"
      },
      "outputs": [
        {
          "name": "stdout",
          "output_type": "stream",
          "text": [
            "10\n",
            "<class 'str'>\n",
            "10\n",
            "<class 'int'>\n",
            "ten\n",
            "<class 'str'>\n",
            "10\n",
            "<class 'str'>\n",
            "10.0\n",
            "<class 'float'>\n",
            "True\n",
            "<class 'bool'>\n",
            "(10+0j)\n",
            "<class 'complex'>\n"
          ]
        }
      ],
      "source": [
        "a='10'\n",
        "print(a)\n",
        "print(type(a))\n",
        "b=int(a)\n",
        "print(b)\n",
        "print(type(b))\n",
        "c='ten'\n",
        "print(c)\n",
        "print(type(c))\n",
        "d=str(a)\n",
        "print(d)\n",
        "print(type(d))\n",
        "#cannot convert alphabets to integers,instead of give digits(0-9) to convert\n",
        "e=float(a)\n",
        "print(e)\n",
        "print(type(e))\n",
        "f=bool(a)\n",
        "print(f)\n",
        "print(type(f))\n",
        "g=complex(a)\n",
        "print(g)\n",
        "print(type(g))"
      ]
    },
    {
      "cell_type": "markdown",
      "id": "f5d4955a",
      "metadata": {
        "id": "f5d4955a"
      },
      "source": [
        "# convert  float to int,string,boolean,complex"
      ]
    },
    {
      "cell_type": "code",
      "execution_count": null,
      "id": "cc2ede55",
      "metadata": {
        "id": "cc2ede55",
        "outputId": "1fb1db0f-f348-4388-d2f4-6bf2c64820b1"
      },
      "outputs": [
        {
          "name": "stdout",
          "output_type": "stream",
          "text": [
            "10.0\n",
            "<class 'float'>\n",
            "10\n",
            "<class 'int'>\n",
            "10.0\n",
            "<class 'str'>\n",
            "True\n",
            "<class 'bool'>\n",
            "(10+0j)\n",
            "<class 'complex'>\n"
          ]
        }
      ],
      "source": [
        "a=10.0\n",
        "print(a)\n",
        "print(type(a))\n",
        "b=int(a)\n",
        "print(b)\n",
        "print(type(b))\n",
        "c=str(a)\n",
        "print(c)\n",
        "print(type(c))\n",
        "d=bool(a)\n",
        "print(d)\n",
        "print(type(d))\n",
        "e=complex(a)\n",
        "print(e)\n",
        "print(type(e))"
      ]
    },
    {
      "cell_type": "code",
      "execution_count": null,
      "id": "b6a8e707",
      "metadata": {
        "id": "b6a8e707"
      },
      "outputs": [],
      "source": [
        "#  "
      ]
    }
  ],
  "metadata": {
    "kernelspec": {
      "display_name": "Python 3 (ipykernel)",
      "language": "python",
      "name": "python3"
    },
    "language_info": {
      "codemirror_mode": {
        "name": "ipython",
        "version": 3
      },
      "file_extension": ".py",
      "mimetype": "text/x-python",
      "name": "python",
      "nbconvert_exporter": "python",
      "pygments_lexer": "ipython3",
      "version": "3.9.7"
    },
    "colab": {
      "name": "python  datatypes.ipynb",
      "provenance": [],
      "include_colab_link": true
    }
  },
  "nbformat": 4,
  "nbformat_minor": 5
}