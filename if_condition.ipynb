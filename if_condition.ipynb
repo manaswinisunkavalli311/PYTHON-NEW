{
  "nbformat": 4,
  "nbformat_minor": 0,
  "metadata": {
    "colab": {
      "name": "if condition.ipynb",
      "provenance": [],
      "collapsed_sections": [],
      "authorship_tag": "ABX9TyOWNN8a5/ESZcV9eP8NCm2I",
      "include_colab_link": true
    },
    "kernelspec": {
      "name": "python3",
      "display_name": "Python 3"
    },
    "language_info": {
      "name": "python"
    }
  },
  "cells": [
    {
      "cell_type": "markdown",
      "metadata": {
        "id": "view-in-github",
        "colab_type": "text"
      },
      "source": [
        "<a href=\"https://colab.research.google.com/github/manaswinisunkavalli311/PYTHON-NEW/blob/MODULE-1/if_condition.ipynb\" target=\"_parent\"><img src=\"https://colab.research.google.com/assets/colab-badge.svg\" alt=\"Open In Colab\"/></a>"
      ]
    },
    {
      "cell_type": "code",
      "execution_count": null,
      "metadata": {
        "colab": {
          "base_uri": "https://localhost:8080/"
        },
        "id": "tyeb4m4uPqfc",
        "outputId": "6aa4fc9d-322c-4e4c-e37a-a41d5113e17a"
      },
      "outputs": [
        {
          "output_type": "stream",
          "name": "stdout",
          "text": [
            "enter age12\n",
            "not eligible\n"
          ]
        }
      ],
      "source": [
        "a=int(input(\"enter age\"))\n",
        "if a>=18:\n",
        "  print(\"eligible\")\n",
        "else:\n",
        "  print(\"not eligible\")"
      ]
    },
    {
      "cell_type": "code",
      "source": [
        "a=78\n",
        "if a>=18:\n",
        "    print(\"eligible\")\n",
        "else:\n",
        "  print(\"not eligible\")\n",
        "\n"
      ],
      "metadata": {
        "colab": {
          "base_uri": "https://localhost:8080/"
        },
        "id": "Y9kPBguXQlfF",
        "outputId": "d2211625-6365-48b4-a808-545e3f80107d"
      },
      "execution_count": null,
      "outputs": [
        {
          "output_type": "stream",
          "name": "stdout",
          "text": [
            "eligible\n"
          ]
        }
      ]
    },
    {
      "cell_type": "code",
      "source": [
        ""
      ],
      "metadata": {
        "id": "zxsC17hRXOAV"
      },
      "execution_count": null,
      "outputs": []
    },
    {
      "cell_type": "code",
      "source": [
        "# max of 3 num\n",
        "a=10\n",
        "b=3\n",
        "c=6\n",
        "if a>b and a>c:\n",
        "  print(\"a is max\")\n",
        "elif b>c and b>a:\n",
        "    print(\"b is max\")\n",
        "else:\n",
        "      print(\"c is max\")"
      ],
      "metadata": {
        "colab": {
          "base_uri": "https://localhost:8080/"
        },
        "id": "43LwAQKlRuid",
        "outputId": "294a7668-3cc6-44d3-8cbb-308f16f2ae0b"
      },
      "execution_count": null,
      "outputs": [
        {
          "output_type": "stream",
          "name": "stdout",
          "text": [
            "a is max\n"
          ]
        }
      ]
    },
    {
      "cell_type": "code",
      "source": [
        "a=int(input(\"a value\"))\n",
        "b=int(input(\"b value\"))\n",
        "c=int(input(\"c value\"))\n",
        "if a>b and a>c:\n",
        "  print(\"a is max\")\n",
        "elif b>c and b>a:\n",
        "    print(\"b is max\")\n",
        "else:\n",
        "  print(\"c is max\")"
      ],
      "metadata": {
        "colab": {
          "base_uri": "https://localhost:8080/"
        },
        "id": "Bh3xGtQ2Tgwz",
        "outputId": "8c027de6-e48d-42d1-ea55-ca87f1757976"
      },
      "execution_count": null,
      "outputs": [
        {
          "output_type": "stream",
          "name": "stdout",
          "text": [
            "a value3\n",
            "b value4\n",
            "c value5\n",
            "c is max\n"
          ]
        }
      ]
    },
    {
      "cell_type": "code",
      "source": [
        "a=int(input(\"enter s1\"))\n",
        "b=int(input(\"sub 2\"1))\n",
        "c=int(input(\"sub 3\"))\n",
        "d=int(input(\"sub 4\"))\n",
        "e=int(input(\"sub 5\"))\n",
        "if a>b and a>c and  a>d and a>e:\n",
        "    print(\"a is max\")\n",
        "elif b>a and b>c and b>d and b>e:\n",
        "   print(\"b is max\")\n",
        "elif c>a and c>b and c>d and c>e:\n",
        "  print(\"c is max\")\n",
        "elif d>a and d>b and d>c and d>e:\n",
        "  print(\"d is max\")\n",
        "else:\n",
        "  print(\"e is max\")\n",
        "\n",
        "\n",
        "\n"
      ],
      "metadata": {
        "colab": {
          "base_uri": "https://localhost:8080/"
        },
        "id": "5y9nS6JvTOd9",
        "outputId": "52e18782-eb3e-46fc-b2cb-e5f2d55b8c8a"
      },
      "execution_count": null,
      "outputs": [
        {
          "output_type": "stream",
          "name": "stdout",
          "text": [
            "enter s112\n",
            "sub 213\n",
            "sub 34\n",
            "sub 45\n",
            "sub 56\n",
            "b is max\n"
          ]
        }
      ]
    },
    {
      "cell_type": "code",
      "source": [
        "a=int(input(\"s1\"))\n",
        "b=int(input(\"s2\"))\n",
        "c=int(input(\"s3\"))\n",
        "if a==b==c:\n",
        "  print(\"equi\")\n",
        "elif a ==b!=c:\n",
        "  print(\"iso\")\n",
        "else:\n",
        "  print(\"scalene\")"
      ],
      "metadata": {
        "colab": {
          "base_uri": "https://localhost:8080/"
        },
        "id": "GmyqifQxXQGL",
        "outputId": "bf9a88ff-438c-41ff-bb0f-95e165b13b71"
      },
      "execution_count": null,
      "outputs": [
        {
          "output_type": "stream",
          "name": "stdout",
          "text": [
            "s130\n",
            "s240\n",
            "s320\n",
            "scalene\n"
          ]
        }
      ]
    },
    {
      "cell_type": "code",
      "source": [
        "ch=(input(\" enter ch\"))\n",
        "if (ch=='a' or ch=='A' or ch=='e' or ch=='E' or  ch=='o'or ch=='O' or ch=='i' or ch=='I' or ch=='u' or ch=='U'):\n",
        "    print(ch,\"vowel\")\n",
        "else:\n",
        "  print(ch,\"consonant\")"
      ],
      "metadata": {
        "colab": {
          "base_uri": "https://localhost:8080/"
        },
        "id": "EBwobBcTas8k",
        "outputId": "2c1d8040-1d7c-453a-810b-21f8d67209d0"
      },
      "execution_count": null,
      "outputs": [
        {
          "output_type": "stream",
          "name": "stdout",
          "text": [
            " enter chh\n",
            "h consonant\n"
          ]
        }
      ]
    },
    {
      "cell_type": "code",
      "source": [
        ""
      ],
      "metadata": {
        "id": "xvjl2bFIatJj"
      },
      "execution_count": null,
      "outputs": []
    },
    {
      "cell_type": "code",
      "source": [
        ""
      ],
      "metadata": {
        "id": "DWzy14huatUK"
      },
      "execution_count": null,
      "outputs": []
    },
    {
      "cell_type": "markdown",
      "source": [
        ""
      ],
      "metadata": {
        "id": "B1epLoCjXtkT"
      }
    }
  ]
}