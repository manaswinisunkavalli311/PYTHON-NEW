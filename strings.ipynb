{
  "nbformat": 4,
  "nbformat_minor": 0,
  "metadata": {
    "colab": {
      "name": "strings.ipynb",
      "provenance": [],
      "authorship_tag": "ABX9TyOQfpdx69vIxKWQfQYkrLrl",
      "include_colab_link": true
    },
    "kernelspec": {
      "name": "python3",
      "display_name": "Python 3"
    },
    "language_info": {
      "name": "python"
    }
  },
  "cells": [
    {
      "cell_type": "markdown",
      "metadata": {
        "id": "view-in-github",
        "colab_type": "text"
      },
      "source": [
        "<a href=\"https://colab.research.google.com/github/manaswinisunkavalli311/PYTHON-NEW/blob/MODULE-2/strings.ipynb\" target=\"_parent\"><img src=\"https://colab.research.google.com/assets/colab-badge.svg\" alt=\"Open In Colab\"/></a>"
      ]
    },
    {
      "cell_type": "code",
      "execution_count": null,
      "metadata": {
        "colab": {
          "base_uri": "https://localhost:8080/"
        },
        "id": "-fIBpgO-4LV-",
        "outputId": "34aa3367-ed50-4037-ad99-2a0d9d15df70"
      },
      "outputs": [
        {
          "output_type": "stream",
          "name": "stdout",
          "text": [
            "4-13,\n",
            "   srinagar,\n",
            "   534350,\n",
            "   vishakapatnam.\n"
          ]
        }
      ],
      "source": [
        "a=\"\"\"4-13,\n",
        "   srinagar,\n",
        "   534350,\n",
        "   vishakapatnam.\"\"\"\n",
        "print(a)"
      ]
    },
    {
      "cell_type": "code",
      "source": [
        "a=\"some things in life are free\"\n",
        "if \"gold\" not in a:\n",
        "    print(\"no,'gold' is not present in a\")"
      ],
      "metadata": {
        "colab": {
          "base_uri": "https://localhost:8080/"
        },
        "id": "hpcoyT2V-qu-",
        "outputId": "1354260c-23dd-412b-c6e1-f54b55b4b111"
      },
      "execution_count": null,
      "outputs": [
        {
          "output_type": "stream",
          "name": "stdout",
          "text": [
            "no,'gold' is not present in a\n"
          ]
        }
      ]
    },
    {
      "cell_type": "code",
      "source": [
        "a='''we have many keywords in python,\n",
        "     there are 33 keywords in python.'''\n",
        "print(len(a))"
      ],
      "metadata": {
        "colab": {
          "base_uri": "https://localhost:8080/"
        },
        "id": "8tVfFgC_-q3M",
        "outputId": "cc1a205f-cd19-4d1a-9116-258603d5824c"
      },
      "execution_count": null,
      "outputs": [
        {
          "output_type": "stream",
          "name": "stdout",
          "text": [
            "70\n"
          ]
        }
      ]
    },
    {
      "cell_type": "code",
      "source": [
        "a='''i am manaswini'''\n",
        "print('manaswini' in a)"
      ],
      "metadata": {
        "colab": {
          "base_uri": "https://localhost:8080/"
        },
        "id": "8V_IhBc3-q-m",
        "outputId": "94464576-7ad5-47e4-ab60-80b95071f4cf"
      },
      "execution_count": null,
      "outputs": [
        {
          "output_type": "stream",
          "name": "stdout",
          "text": [
            "True\n"
          ]
        }
      ]
    },
    {
      "cell_type": "code",
      "source": [
        "a='''how are you.'''\n",
        "print('good' in a)"
      ],
      "metadata": {
        "colab": {
          "base_uri": "https://localhost:8080/"
        },
        "id": "_nK-Kwzq-rGu",
        "outputId": "3babc034-cc20-4ad4-e518-7e300309c907"
      },
      "execution_count": null,
      "outputs": [
        {
          "output_type": "stream",
          "name": "stdout",
          "text": [
            "False\n"
          ]
        }
      ]
    },
    {
      "cell_type": "markdown",
      "source": [
        "# slicing of string"
      ],
      "metadata": {
        "id": "45DHu7DACx0d"
      }
    },
    {
      "cell_type": "code",
      "source": [
        "a=\"  goog\"\n",
        "print(a[1])"
      ],
      "metadata": {
        "colab": {
          "base_uri": "https://localhost:8080/"
        },
        "id": "QZ9KNwq2C2bq",
        "outputId": "877f5798-f84e-408d-9f43-6335c14ff2ff"
      },
      "execution_count": null,
      "outputs": [
        {
          "output_type": "stream",
          "name": "stdout",
          "text": [
            " \n"
          ]
        }
      ]
    },
    {
      "cell_type": "code",
      "source": [
        "a=\"string, are classified to 5 types\"\n",
        "print(a[-9:-3])\n"
      ],
      "metadata": {
        "colab": {
          "base_uri": "https://localhost:8080/"
        },
        "id": "GXbOHbG3D7xm",
        "outputId": "4f4435cf-eff3-4b5e-e7cd-a7b42e9687f8"
      },
      "execution_count": null,
      "outputs": [
        {
          "output_type": "stream",
          "name": "stdout",
          "text": [
            "o 5 ty\n"
          ]
        }
      ]
    },
    {
      "cell_type": "markdown",
      "source": [
        "# modifying strings\n"
      ],
      "metadata": {
        "id": "i6IOTZXxGsbi"
      }
    },
    {
      "cell_type": "code",
      "source": [
        "a=\"   hello good morning   \"\n",
        "print(a.split())"
      ],
      "metadata": {
        "colab": {
          "base_uri": "https://localhost:8080/"
        },
        "id": "s9B88cj9D71T",
        "outputId": "f735d549-c216-4675-a8d2-3466c568b004"
      },
      "execution_count": null,
      "outputs": [
        {
          "output_type": "stream",
          "name": "stdout",
          "text": [
            "['hello', 'good', 'morning']\n"
          ]
        }
      ]
    },
    {
      "cell_type": "code",
      "source": [
        "a=\"  hi ,  hello   \"\n",
        "print(a.split(\",\"))\n"
      ],
      "metadata": {
        "colab": {
          "base_uri": "https://localhost:8080/"
        },
        "id": "-oKx9KLvEg08",
        "outputId": "089a7b39-b0e4-49f0-8b80-0b922702109a"
      },
      "execution_count": null,
      "outputs": [
        {
          "output_type": "stream",
          "name": "stdout",
          "text": [
            "['  hi ', '  hello   ']\n"
          ]
        }
      ]
    },
    {
      "cell_type": "code",
      "source": [
        "a=\"good morning\"\n",
        "print(a.upper())\n",
        "print(a.lower())\n",
        "print(a.title())\n",
        "print(a.split('o'))\n",
        "print(a.split('m'))\n",
        "print(a.capitalize())"
      ],
      "metadata": {
        "colab": {
          "base_uri": "https://localhost:8080/"
        },
        "id": "MDX1quTlEg4q",
        "outputId": "1ca4cdbc-dde2-4e2d-9fb9-16ead0dea72b"
      },
      "execution_count": null,
      "outputs": [
        {
          "output_type": "stream",
          "name": "stdout",
          "text": [
            "GOOD MORNING\n",
            "good morning\n",
            "Good Morning\n",
            "['g', '', 'd m', 'rning']\n",
            "['good ', 'orning']\n",
            "Good morning\n"
          ]
        }
      ]
    },
    {
      "cell_type": "code",
      "source": [
        "age = 36\n",
        "txt = \"My name is John, and I am {}\"\n",
        "print(txt.format(age))\n"
      ],
      "metadata": {
        "colab": {
          "base_uri": "https://localhost:8080/"
        },
        "id": "oVdmZxPxEg8c",
        "outputId": "0c2927bc-0497-454c-ad69-7d89e867906e"
      },
      "execution_count": null,
      "outputs": [
        {
          "output_type": "stream",
          "name": "stdout",
          "text": [
            "My name is John, and I am 36\n"
          ]
        }
      ]
    },
    {
      "cell_type": "code",
      "source": [
        "txt = \"We are the so-called 'Vikings' from the north.\"\n",
        "print(txt)"
      ],
      "metadata": {
        "colab": {
          "base_uri": "https://localhost:8080/"
        },
        "id": "8zOiD_VJNSEy",
        "outputId": "777b23c2-5669-450f-e9fa-527c5bf32a89"
      },
      "execution_count": null,
      "outputs": [
        {
          "output_type": "stream",
          "name": "stdout",
          "text": [
            "We are the so-called 'Vikings' from the north.\n"
          ]
        }
      ]
    },
    {
      "cell_type": "code",
      "source": [
        "capitalize()\tConverts the first character to upper case\n",
        "casefold()\tConverts string into lower case\n",
        "center()\tReturns a centered string\n",
        "count()\tReturns the number of times a specified value occurs in a string\n",
        "encode()\tReturns an encoded version of the string\n",
        "endswith()\tReturns true if the string ends with the specified value\n",
        "expandtabs()\tSets the tab size of the string\n",
        "find()\tSearches the string for a specified value and returns the position of where it was found\n",
        "format()\tFormats specified values in a string\n",
        "format_map()\tFormats specified values in a string\n",
        "index()\tSearches the string for a specified value and returns the position of where it was found\n",
        "isalnum()\tReturns True if all characters in the string are alphanumeric\n",
        "isalpha()\tReturns True if all characters in the string are in the alphabet\n",
        "isdecimal()\tReturns True if all characters in the string are decimals\n",
        "isdigit()\tReturns True if all characters in the string are digits\n",
        "isidentifier()\tReturns True if the string is an identifier\n",
        "islower()\tReturns True if all characters in the string are lower case\n",
        "isnumeric()\tReturns True if all characters in the string are numeric\n",
        "isprintable()\tReturns True if all characters in the string are printable\n",
        "isspace()\tReturns True if all characters in the string are whitespaces\n",
        "istitle()\tReturns True if the string follows the rules of a title\n",
        "isupper()\tReturns True if all characters in the string are upper case\n",
        "join()\tJoins the elements of an iterable to the end of the string\n",
        "ljust()\tReturns a left justified version of the string\n",
        "lower()\tConverts a string into lower case\n",
        "lstrip()\tReturns a left trim version of the string\n",
        "maketrans()\tReturns a translation table to be used in translations\n",
        "partition()\tReturns a tuple where the string is parted into three parts\n",
        "replace()\tReturns a string where a specified value is replaced with a specified value\n",
        "rfind()\tSearches the string for a specified value and returns the last position of where it was found\n",
        "rindex()\tSearches the string for a specified value and returns the last position of where it was found\n",
        "rjust()\tReturns a right justified version of the string\n",
        "rpartition()\tReturns a tuple where the string is parted into three parts\n",
        "rsplit()\tSplits the string at the specified separator, and returns a list\n",
        "rstrip()\tReturns a right trim version of the string\n",
        "split()\tSplits the string at the specified separator, and returns a list\n",
        "splitlines()\tSplits the string at line breaks and returns a list\n",
        "startswith()\tReturns true if the string starts with the specified value\n",
        "strip()\tReturns a trimmed version of the string\n",
        "swapcase()\tSwaps cases, lower case becomes upper case and vice versa\n",
        "title()\tConverts the first character of each word to upper case\n",
        "translate()\tReturns a translated string\n",
        "upper()\tConverts a string into upper case\n",
        "zfill()\tFills the string with a specified number of 0 values at the beginning\n"
      ],
      "metadata": {
        "id": "jZUqEWhSOnVC"
      },
      "execution_count": null,
      "outputs": []
    },
    {
      "cell_type": "code",
      "source": [
        "a=\"hello\\nworld\"\n",
        "print(a)"
      ],
      "metadata": {
        "colab": {
          "base_uri": "https://localhost:8080/"
        },
        "id": "JwLp4llQOosB",
        "outputId": "b370af3c-3025-479e-86ac-98785ca7f947"
      },
      "execution_count": null,
      "outputs": [
        {
          "output_type": "stream",
          "name": "stdout",
          "text": [
            "hello\n",
            "world\n"
          ]
        }
      ]
    },
    {
      "cell_type": "code",
      "source": [
        "quantity = 3\n",
        "itemno = 567\n",
        "price = 49.95\n",
        "myorder = \"I want {} pieces of item {} for {} dollars.\"\n",
        "print(myorder.format(quantity, itemno, price))\n"
      ],
      "metadata": {
        "colab": {
          "base_uri": "https://localhost:8080/"
        },
        "id": "1e8-bQptNSJM",
        "outputId": "45051a16-97e9-4a58-ea3c-e46e1d14cb08"
      },
      "execution_count": null,
      "outputs": [
        {
          "output_type": "stream",
          "name": "stdout",
          "text": [
            "I want 3 pieces of item 567 for 49.95 dollars.\n"
          ]
        }
      ]
    },
    {
      "cell_type": "code",
      "source": [
        ""
      ],
      "metadata": {
        "id": "XLP1Tt_QQ0TE"
      },
      "execution_count": null,
      "outputs": []
    },
    {
      "cell_type": "code",
      "source": [
        ""
      ],
      "metadata": {
        "id": "0Vw6BlXzQ0cI"
      },
      "execution_count": null,
      "outputs": []
    }
  ]
}