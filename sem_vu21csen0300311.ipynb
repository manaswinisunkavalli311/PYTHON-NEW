{
  "nbformat": 4,
  "nbformat_minor": 0,
  "metadata": {
    "colab": {
      "name": "sem vu21csen0300311.ipynb",
      "provenance": [],
      "collapsed_sections": [],
      "authorship_tag": "ABX9TyNP9rwaIJoiDkhhiVkBLcOO",
      "include_colab_link": true
    },
    "kernelspec": {
      "name": "python3",
      "display_name": "Python 3"
    },
    "language_info": {
      "name": "python"
    }
  },
  "cells": [
    {
      "cell_type": "markdown",
      "metadata": {
        "id": "view-in-github",
        "colab_type": "text"
      },
      "source": [
        "<a href=\"https://colab.research.google.com/github/manaswinisunkavalli311/PYTHON-NEW/blob/main/sem_vu21csen0300311.ipynb\" target=\"_parent\"><img src=\"https://colab.research.google.com/assets/colab-badge.svg\" alt=\"Open In Colab\"/></a>"
      ]
    },
    {
      "cell_type": "code",
      "execution_count": null,
      "metadata": {
        "colab": {
          "base_uri": "https://localhost:8080/"
        },
        "id": "tzpN87nsgLdp",
        "outputId": "55656fcc-1d40-4cf5-afc2-ea7d01b31b1a"
      },
      "outputs": [
        {
          "output_type": "stream",
          "name": "stdout",
          "text": [
            "[0, 1, 1, 2, 3, 5, 8, 13, 21]\n"
          ]
        }
      ],
      "source": [
        "#fibnocci series 2a\n",
        "fibonacci_List = [0, 1]\n",
        "N = 9\n",
        "term = 3\n",
        "while term < N + 1:\n",
        "    value = fibonacci_List[term - 2] + fibonacci_List[term - 3]\n",
        "    fibonacci_List.append(value)\n",
        "    term = term + 1\n",
        "print(fibonacci_List)"
      ]
    },
    {
      "cell_type": "code",
      "source": [
        "#1a\n",
        "sub1=int(input(\"Enter marks  \"))\n",
        "sub2=int(input(\"Enter marks : \"))\n",
        "sub3=int(input(\"Enter marks  \"))\n",
        "sub4=int(input(\"Enter marks \"))\n",
        "sub5=int(input(\"Enter marks  \"))\n",
        "avg=(sub1+sub2+sub3+sub4+sub4)/5\n",
        "if(avg>=90):\n",
        "    print(\"o\")\n",
        "elif(avg>=80 and avg<90):\n",
        "    print(\"A\")\n",
        "elif(avg>=70 and avg<80):\n",
        "    print(\"B\")\n",
        "elif(avg>=60 and avg<70):\n",
        "    print(\"C\")\n",
        "elif(avg>=50 and avg<=60): \n",
        "     print(\"D\")\n",
        "else:\n",
        "    print(\"F\")"
      ],
      "metadata": {
        "id": "leHbMezrgbNe",
        "colab": {
          "base_uri": "https://localhost:8080/"
        },
        "outputId": "f9f6ab96-fa02-4df9-ccc9-6c19d7d8c873"
      },
      "execution_count": null,
      "outputs": [
        {
          "output_type": "stream",
          "name": "stdout",
          "text": [
            "Enter marks  60\n",
            "Enter marks : 10\n",
            "Enter marks  20\n",
            "Enter marks 40\n",
            "Enter marks  50\n",
            "F\n"
          ]
        }
      ]
    },
    {
      "cell_type": "code",
      "source": [
        "#5 title \n",
        "import matplotlib.pyplot as plt\n",
        "import numpy as np\n",
        "\n",
        "y = np.array([50, 60, 16, 87,34,65])\n",
        "mylabels = [\"math\", \"physics\", \"english\", \"social\",\"chem\",\"bio\"]\n",
        "\n",
        "plt.pie(y, labels = mylabels)\n",
        "plt.legend(title = \"6 subjects:\")\n",
        "plt.show() "
      ],
      "metadata": {
        "colab": {
          "base_uri": "https://localhost:8080/",
          "height": 248
        },
        "id": "hN6xINS9jgK_",
        "outputId": "8b5c8d0d-dfb0-41f4-ef25-de59f6380ab5"
      },
      "execution_count": 15,
      "outputs": [
        {
          "output_type": "display_data",
          "data": {
            "text/plain": [
              "<Figure size 432x288 with 1 Axes>"
            ],
            "image/png": "[encoded data removed]"
          },
          "metadata": {}
        }
      ]
    },
    {
      "cell_type": "code",
      "source": [
        "#2b\n",
        "list = [1,2,3,4,5,6]\n",
        "for num in list:\n",
        "    if num % 2 == 0:\n",
        "        print(num, end=\" \")"
      ],
      "metadata": {
        "id": "WDaMhNAdmbCW"
      },
      "execution_count": null,
      "outputs": []
    },
    {
      "cell_type": "code",
      "source": [
        "#1b\n",
        "num = int(input(\"Enter\"))  \n",
        "x = num  \n",
        "rev = 0\n",
        "rem=0  \n",
        "while(num > 0):  \n",
        "    dig = num % 10  \n",
        "    revrev = rev * 10 + rem\n",
        "    numnum = num // 10  \n",
        "if(x == rev):  \n",
        "    print(\"palindrome \")  \n",
        "else:  \n",
        "    print(\"  notpalindrome \")  \n"
      ],
      "metadata": {
        "colab": {
          "base_uri": "https://localhost:8080/",
          "height": 0
        },
        "id": "OdG44ISSkl-d",
        "outputId": "66e5c174-e81d-4693-cfeb-3012fc8139c0"
      },
      "execution_count": null,
      "outputs": [
        {
          "name": "stdout",
          "output_type": "stream",
          "text": [
            "Enter121\n"
          ]
        }
      ]
    }
  ]
}