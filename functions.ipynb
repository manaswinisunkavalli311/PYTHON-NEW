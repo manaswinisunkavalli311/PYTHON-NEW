{
  "nbformat": 4,
  "nbformat_minor": 0,
  "metadata": {
    "colab": {
      "name": "functions.ipynb",
      "provenance": [],
      "collapsed_sections": [],
      "authorship_tag": "ABX9TyNMoha+c2cfp/eIKtyNYfVv",
      "include_colab_link": true
    },
    "kernelspec": {
      "name": "python3",
      "display_name": "Python 3"
    },
    "language_info": {
      "name": "python"
    }
  },
  "cells": [
    {
      "cell_type": "markdown",
      "metadata": {
        "id": "view-in-github",
        "colab_type": "text"
      },
      "source": [
        "<a href=\"https://colab.research.google.com/github/manaswinisunkavalli311/PYTHON-NEW/blob/MODULE-2/functions.ipynb\" target=\"_parent\"><img src=\"https://colab.research.google.com/assets/colab-badge.svg\" alt=\"Open In Colab\"/></a>"
      ]
    },
    {
      "cell_type": "code",
      "execution_count": null,
      "metadata": {
        "id": "HFZwUJ7ZUnD4"
      },
      "outputs": [],
      "source": [
        "#functions are reusable"
      ]
    },
    {
      "cell_type": "code",
      "source": [
        "\n",
        "length=len(list1)\n",
        "list1.sort()\n",
        "print(\"small is\",list1[0])\n",
        "print(\"sec smal is\",list1[1])\n",
        "print(\"large is\",list1[length-1])\n",
        "print(\"2 large is\",list1[length-2])\n",
        "list1=[1,2,3,9]\n"
      ],
      "metadata": {
        "colab": {
          "base_uri": "https://localhost:8080/"
        },
        "id": "j4A_8UPbKsGg",
        "outputId": "54f43d7d-cf11-41db-c468-c79bc8176c3f"
      },
      "execution_count": null,
      "outputs": [
        {
          "output_type": "stream",
          "name": "stdout",
          "text": [
            "small is 1\n",
            "sec smal is 2\n",
            "large is 9\n",
            "2 large is 3\n"
          ]
        }
      ]
    },
    {
      "cell_type": "code",
      "source": [
        "n=int(input(\"enter\"))\n",
        "d={}\n",
        "for x in range(1,n+1):\n",
        "   d[x]=x*x\n",
        "print(d)\n",
        " "
      ],
      "metadata": {
        "colab": {
          "base_uri": "https://localhost:8080/"
        },
        "id": "hckzIxNlOxdB",
        "outputId": "a98fc9c3-1f98-4bad-fb29-f41fbdc6727a"
      },
      "execution_count": null,
      "outputs": [
        {
          "output_type": "stream",
          "name": "stdout",
          "text": [
            "enter4\n",
            "{1: 1, 2: 4, 3: 9, 4: 16}\n"
          ]
        }
      ]
    },
    {
      "cell_type": "code",
      "source": [
        "def replaceLLwithZ(input,pattern,replacewith):\n",
        "      return input.replace(pattern, replacewith)\n",
        "if _name_ == \"_main_\":\n",
        "      input=\"hello\"\n",
        "      pattern=\"LL\"\n",
        "      replacewith=\"Z\"\n",
        "      print (replaceLLwithZ(input,Pattern,replacewith))"
      ],
      "metadata": {
        "colab": {
          "base_uri": "https://localhost:8080/",
          "height": 235
        },
        "id": "Iq_MoMILQZUL",
        "outputId": "34c47a21-0ca9-4d2b-95cd-97439ab75860"
      },
      "execution_count": null,
      "outputs": [
        {
          "output_type": "error",
          "ename": "NameError",
          "evalue": "ignored",
          "traceback": [
            "\u001b[0;31m---------------------------------------------------------------------------\u001b[0m",
            "\u001b[0;31mNameError\u001b[0m                                 Traceback (most recent call last)",
            "\u001b[0;32m<ipython-input-33-4fec82bd1124>\u001b[0m in \u001b[0;36m<module>\u001b[0;34m()\u001b[0m\n\u001b[1;32m      1\u001b[0m \u001b[0;32mdef\u001b[0m \u001b[0mreplaceLLwithZ\u001b[0m\u001b[0;34m(\u001b[0m\u001b[0minput\u001b[0m\u001b[0;34m,\u001b[0m\u001b[0mpattern\u001b[0m\u001b[0;34m,\u001b[0m\u001b[0mreplacewith\u001b[0m\u001b[0;34m)\u001b[0m\u001b[0;34m:\u001b[0m\u001b[0;34m\u001b[0m\u001b[0;34m\u001b[0m\u001b[0m\n\u001b[1;32m      2\u001b[0m       \u001b[0;32mreturn\u001b[0m \u001b[0minput\u001b[0m\u001b[0;34m.\u001b[0m\u001b[0mreplace\u001b[0m\u001b[0;34m(\u001b[0m\u001b[0mpattern\u001b[0m\u001b[0;34m,\u001b[0m \u001b[0mreplacewith\u001b[0m\u001b[0;34m)\u001b[0m\u001b[0;34m\u001b[0m\u001b[0;34m\u001b[0m\u001b[0m\n\u001b[0;32m----> 3\u001b[0;31m \u001b[0;32mif\u001b[0m \u001b[0m_name_\u001b[0m \u001b[0;34m==\u001b[0m \u001b[0;34m\"_main_\"\u001b[0m\u001b[0;34m:\u001b[0m\u001b[0;34m\u001b[0m\u001b[0;34m\u001b[0m\u001b[0m\n\u001b[0m\u001b[1;32m      4\u001b[0m       \u001b[0minput\u001b[0m\u001b[0;34m=\u001b[0m\u001b[0;34m\"hello\"\u001b[0m\u001b[0;34m\u001b[0m\u001b[0;34m\u001b[0m\u001b[0m\n\u001b[1;32m      5\u001b[0m       \u001b[0mpattern\u001b[0m\u001b[0;34m=\u001b[0m\u001b[0;34m\"LL\"\u001b[0m\u001b[0;34m\u001b[0m\u001b[0;34m\u001b[0m\u001b[0m\n",
            "\u001b[0;31mNameError\u001b[0m: name '_name_' is not defined"
          ]
        }
      ]
    },
    {
      "cell_type": "code",
      "source": [
        "def manaswini():\n",
        "  print(\"hai\")\n",
        "manaswini()\n",
        " "
      ],
      "metadata": {
        "colab": {
          "base_uri": "https://localhost:8080/"
        },
        "id": "tAyAUGcjVX3e",
        "outputId": "59c13525-f856-48b2-b59e-5e80460bc82e"
      },
      "execution_count": null,
      "outputs": [
        {
          "output_type": "stream",
          "name": "stdout",
          "text": [
            "hai\n"
          ]
        }
      ]
    },
    {
      "cell_type": "code",
      "source": [
        "def me(fname):\n",
        "  print(fname + \" sunkavalli\")\n",
        "\n",
        "me(\"manaswini\")\n",
        "me(\"y\")\n",
        "me(\"x\")"
      ],
      "metadata": {
        "colab": {
          "base_uri": "https://localhost:8080/"
        },
        "id": "H5DDLX5kVX7e",
        "outputId": "483a876f-b637-4a55-c520-7feaedb8b193"
      },
      "execution_count": null,
      "outputs": [
        {
          "output_type": "stream",
          "name": "stdout",
          "text": [
            "manaswini sunkavalli\n",
            "y sunkavalli\n",
            "x sunkavalli\n"
          ]
        }
      ]
    },
    {
      "cell_type": "code",
      "source": [
        "def manaswini(fname, lname):\n",
        "  print(fname + \" \" + lname)\n",
        "manaswini(\"manaswini\", \"sunkavalli\")"
      ],
      "metadata": {
        "colab": {
          "base_uri": "https://localhost:8080/"
        },
        "id": "864P7gi6VYDF",
        "outputId": "cd79f8ae-d0ea-4d8f-c745-43228b65616a"
      },
      "execution_count": null,
      "outputs": [
        {
          "output_type": "stream",
          "name": "stdout",
          "text": [
            "manaswini sunkavalli\n"
          ]
        }
      ]
    },
    {
      "cell_type": "code",
      "source": [
        "def my_function(*marks):\n",
        "  print(\"The highest marks is \" + marks[1])\n",
        "\n",
        "my_function(\"68\", \"100\", \"90\")\n"
      ],
      "metadata": {
        "colab": {
          "base_uri": "https://localhost:8080/"
        },
        "id": "OIbRZxROVYIF",
        "outputId": "b685850d-6003-48bb-d665-1c54f232490c"
      },
      "execution_count": null,
      "outputs": [
        {
          "output_type": "stream",
          "name": "stdout",
          "text": [
            "The highest marks is 100\n"
          ]
        }
      ]
    },
    {
      "cell_type": "code",
      "source": [
        "def fun(animal1,animal2,animal3):\n",
        "  print(\" my pet is \" + animal1)\n",
        "fun(animal1 = \"dog\", animal2 = \"cat\", animal3 = \"parrot\")\n"
      ],
      "metadata": {
        "colab": {
          "base_uri": "https://localhost:8080/"
        },
        "id": "jtBq-gWbZqkl",
        "outputId": "b0ca75c5-78b0-46af-b438-b3f0d4cb91ea"
      },
      "execution_count": null,
      "outputs": [
        {
          "output_type": "stream",
          "name": "stdout",
          "text": [
            " my pet is dog\n"
          ]
        }
      ]
    },
    {
      "cell_type": "code",
      "source": [
        "def voting(name,age,gender):\n",
        "  print(name,age,gender)\n",
        "name=\"name is manaswini\"\n",
        "age=\"age is 18\"\n",
        "gender=\"gender is female\"\n",
        "voting(name,age,gender)"
      ],
      "metadata": {
        "colab": {
          "base_uri": "https://localhost:8080/"
        },
        "id": "ft2CZKvyZrwU",
        "outputId": "dbd43019-b109-48f6-e3cd-388908638764"
      },
      "execution_count": null,
      "outputs": [
        {
          "output_type": "stream",
          "name": "stdout",
          "text": [
            "name is manaswini age is 18 gender is female\n"
          ]
        }
      ]
    },
    {
      "cell_type": "code",
      "source": [
        "def voting(age):\n",
        "  if (age>=18):\n",
        "        print(\"eligible\")\n",
        "  else:\n",
        "        print(\"not eligible\") \n",
        "age=int(input(\"enter\"))\n",
        "voting(age)"
      ],
      "metadata": {
        "colab": {
          "base_uri": "https://localhost:8080/"
        },
        "id": "ZGdvaOa6cd28",
        "outputId": "bad0f254-0096-432e-ba6d-97bc683fb526"
      },
      "execution_count": null,
      "outputs": [
        {
          "output_type": "stream",
          "name": "stdout",
          "text": [
            "enter30\n",
            "eligible\n"
          ]
        }
      ]
    },
    {
      "cell_type": "code",
      "source": [
        "def my_function(x):\n",
        "  return  x\n",
        "\n",
        "print(my_function(\"name=manaswini\"))\n",
        "print(my_function(\"age=18\"))\n",
        "print(my_function(\"gender=female\"))"
      ],
      "metadata": {
        "colab": {
          "base_uri": "https://localhost:8080/"
        },
        "id": "NXLo8HFfceBr",
        "outputId": "e93a9296-7293-438f-cd0c-7520a15c0759"
      },
      "execution_count": null,
      "outputs": [
        {
          "output_type": "stream",
          "name": "stdout",
          "text": [
            "name=manaswini\n",
            "age=18\n",
            "gender=female\n"
          ]
        }
      ]
    }
  ]
}